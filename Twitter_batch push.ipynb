{
 "cells": [
  {
   "cell_type": "code",
   "execution_count": 3,
   "metadata": {},
   "outputs": [],
   "source": [
    "import requests\n",
    "from selenium import webdriver\n",
    "from selenium.webdriver.chrome.options import Options\n",
    "from bs4 import BeautifulSoup\n",
    "import time\n",
    "import pandas as pd\n",
    "from pandas import DataFrame as df\n",
    "from selenium.webdriver.support.ui import WebDriverWait\n",
    "from selenium.webdriver.support import expected_conditions\n",
    "from selenium.webdriver.common.by import By\n",
    "from selenium.common.exceptions import NoSuchElementException\n",
    "from selenium.webdriver.support.ui import WebDriverWait\n",
    "from selenium.webdriver.support import expected_conditions as EC\n",
    "import os\n",
    "from selenium.webdriver.common.action_chains import ActionChains\n",
    "from selenium.webdriver.edge.service import Service\n",
    "import urllib\n",
    "from selenium.webdriver.support.ui import Select\n",
    "from gspread_dataframe import get_as_dataframe, set_with_dataframe\n"
   ]
  },
  {
   "cell_type": "code",
   "execution_count": 4,
   "metadata": {},
   "outputs": [],
   "source": [
    "def select_date(driver,day, month, year,hour,min):\n",
    "    driver.implicitly_wait(0.8)\n",
    "    driver.find_element(By.CSS_SELECTOR,('div[aria-label=ツイートを予約]')).click()\n",
    "    driver.implicitly_wait(0.8)\n",
    "    # Locate the select elements for month, day, and year\n",
    "    month_select = driver.find_element(By.CSS_SELECTOR, \"select#SELECTOR_1\")\n",
    "    day_select = driver.find_element(By.CSS_SELECTOR, \"select#SELECTOR_2\")\n",
    "    year_select = driver.find_element(By.CSS_SELECTOR, \"select#SELECTOR_3\")\n",
    "    hour_select = driver.find_element(By.CSS_SELECTOR, \"select#SELECTOR_4\")\n",
    "    min_select = driver.find_element(By.CSS_SELECTOR, \"select#SELECTOR_5\")\n",
    "    ampm_select = driver.find_element(By.CSS_SELECTOR, \"select#SELECTOR_6\")\n",
    "\n",
    "    # Create Select instances for each dropdown\n",
    "    month_select_instance = Select(month_select)\n",
    "    day_select_instance = Select(day_select)\n",
    "    year_select_instance = Select(year_select)\n",
    "    if hour > 12: \n",
    "        hour = hour - 12\n",
    "        ampm = 1\n",
    "    else: ampm = 0\n",
    "    hour_select_instance = Select(hour_select)\n",
    "    min_select_instance = Select(min_select)\n",
    "    ampm_select_instance = Select(ampm_select)\n",
    "    \n",
    "    # Select the options based on the input values\n",
    "    month_select_instance.select_by_value(str(month))\n",
    "    day_select_instance.select_by_value(str(day))\n",
    "    year_select_instance.select_by_value(str(year))\n",
    "    hour_select_instance.select_by_value(str(hour))\n",
    "    min_select_instance.select_by_value(str(min))\n",
    "    ampm_select_instance.select_by_index(ampm)\n",
    "    driver.find_element(By.XPATH,('//*[@id=\"layers\"]/div[2]/div/div/div/div/div/div[2]/div[2]/div/div[1]/div/div[1]/div/div/div/div/div/div[3]/div/div/div/span/span')).click()\n",
    "    time.sleep(0.4)\n",
    "    driver.find_element(By.XPATH, \"//span[text()='予約設定']\").click()\n",
    "    time.sleep(0.4)\n",
    "    \n",
    "def update_status_with_media(n):\n",
    "    driver.get('https://twitter.com/compose/tweet')\n",
    "    time.sleep(1.2)\n",
    "    driver.find_element(By.XPATH, \"//input[@data-testid='fileInput']\").send_keys(file_paths[n])\n",
    "    driver.find_element(By.XPATH, '//*[@id=\"layers\"]/div[2]/div/div/div/div/div/div[2]/div[2]/div/div/div/div[3]/div[2]/div[1]/div/div/div/div/div[2]/div[1]/div/div/div/div/div/div[2]/div/div/div/div/label/div[1]/div/div/div/div/div/div[2]/div/div/div/div').click()\n",
    "    driver.find_element(By.XPATH, '//*[@id=\"layers\"]/div[2]/div/div/div/div/div/div[2]/div[2]/div/div/div/div[3]/div[2]/div[1]/div/div/div/div/div[2]/div[1]/div/div/div/div/div/div[2]/div/div/div/div[1]/label/div[1]/div/div/div/div/div/div[2]/div/div/div/div/span/span').send_keys(tweet[n])"
   ]
  },
  {
   "cell_type": "code",
   "execution_count": 5,
   "metadata": {},
   "outputs": [
    {
     "name": "stdout",
     "output_type": "stream",
     "text": [
      "All records: {'spreadsheetId': '1GVLt55UEiBr1OOHauxXyqGPMovOSVT7ghw9tx69reiU', 'properties': {'title': 'Python test1', 'locale': 'ja_JP', 'autoRecalc': 'ON_CHANGE', 'timeZone': 'Asia/Tokyo', 'defaultFormat': {'backgroundColor': {'red': 1, 'green': 1, 'blue': 1}, 'padding': {'top': 2, 'right': 3, 'bottom': 2, 'left': 3}, 'verticalAlignment': 'BOTTOM', 'wrapStrategy': 'OVERFLOW_CELL', 'textFormat': {'foregroundColor': {}, 'fontFamily': 'arial,sans,sans-serif', 'fontSize': 10, 'bold': False, 'italic': False, 'strikethrough': False, 'underline': False, 'foregroundColorStyle': {'rgbColor': {}}}, 'backgroundColorStyle': {'rgbColor': {'red': 1, 'green': 1, 'blue': 1}}}, 'spreadsheetTheme': {'primaryFontFamily': 'Arial', 'themeColors': [{'colorType': 'TEXT', 'color': {'rgbColor': {}}}, {'colorType': 'BACKGROUND', 'color': {'rgbColor': {'red': 1, 'green': 1, 'blue': 1}}}, {'colorType': 'ACCENT1', 'color': {'rgbColor': {'red': 0.25882354, 'green': 0.52156866, 'blue': 0.95686275}}}, {'colorType': 'ACCENT2', 'color': {'rgbColor': {'red': 0.91764706, 'green': 0.2627451, 'blue': 0.20784314}}}, {'colorType': 'ACCENT3', 'color': {'rgbColor': {'red': 0.9843137, 'green': 0.7372549, 'blue': 0.015686275}}}, {'colorType': 'ACCENT4', 'color': {'rgbColor': {'red': 0.20392157, 'green': 0.65882355, 'blue': 0.3254902}}}, {'colorType': 'ACCENT5', 'color': {'rgbColor': {'red': 1, 'green': 0.42745098, 'blue': 0.003921569}}}, {'colorType': 'ACCENT6', 'color': {'rgbColor': {'red': 0.27450982, 'green': 0.7411765, 'blue': 0.7764706}}}, {'colorType': 'LINK', 'color': {'rgbColor': {'red': 0.06666667, 'green': 0.33333334, 'blue': 0.8}}}]}}, 'sheets': [{'properties': {'sheetId': 0, 'title': 'シート1', 'index': 0, 'sheetType': 'GRID', 'gridProperties': {'rowCount': 1000, 'columnCount': 26}}}], 'spreadsheetUrl': 'https://docs.google.com/spreadsheets/d/1GVLt55UEiBr1OOHauxXyqGPMovOSVT7ghw9tx69reiU/edit'}\n"
     ]
    }
   ],
   "source": [
    "import gspread\n",
    "from google.oauth2 import service_account\n",
    "\n",
    "credentials_file = r'C:\\Users\\as6ey\\Downloads\\credentials.json'\n",
    "credentials = service_account.Credentials.from_service_account_file(\n",
    "    credentials_file,\n",
    "    scopes=['https://www.googleapis.com/auth/spreadsheets']\n",
    ")\n",
    "\n",
    "client = gspread.authorize(credentials)\n",
    "spreadsheet_id = 'put here'\n",
    "spreadsheet = client.open_by_key(spreadsheet_id)\n",
    "\n",
    "# Access the first sheet in the spreadsheet\n",
    "worksheet = spreadsheet._spreadsheets_get(0)\n",
    "\n",
    "# Get all records\n",
    "records = worksheet\n",
    "print(f\"All records: {records}\")"
   ]
  },
  {
   "cell_type": "code",
   "execution_count": 110,
   "metadata": {},
   "outputs": [
    {
     "name": "stdout",
     "output_type": "stream",
     "text": [
      "['4/17', 'おはよう\\n#TEST #TEST', 'おはよう2\\n#TEST #TEST', 'おはよう3\\n#TEST #TEST', 'おはよう4\\n#TEST #TEST', 'おはよう5\\n#TEST #TEST', 'おはよう6\\n#TEST #TEST', '']\n",
      "['4/18', 'A\\n#TEST #TEST', 'A2\\n#TEST #TEST', 'A3\\n#TEST #TEST', 'A4\\n#TEST #TEST', 'A5\\n#TEST #TEST', 'A6\\n#TEST #TEST', '']\n",
      "['4/19', 'B1\\n#TEST #TEST', 'B２\\n#TEST #TEST', 'B3\\n#TEST #TEST', 'B4\\n#TEST #TEST', 'B5\\n#TEST #TEST', 'B6\\n#TEST #TEST', '']\n",
      "['4/20', '', '', '', '', '', '', '']\n",
      "['4/21', '', '', '', '', '', '', '']\n",
      "['4/22', '', '', '', '', '', '', '']\n",
      "['4/23', '', '', '', '', '', '', '']\n",
      "['4/24', '', '', '', '', '', '', '']\n",
      "['4/25', '', '', '', '', '', '', '']\n",
      "['4/26', '', '', '', '', '', '', '']\n",
      "['4/27', '', '', '', '', '', '', '']\n",
      "['4/28', '', '', '', '', '', '', '']\n",
      "['4/29', '', '', '', '', '', '', '']\n",
      "['4/30', '', '', '', '', '', '', '']\n",
      "['5/1', '', '', '', '', '', '', '']\n",
      "['5/2', '', '', '', '', '', '', '']\n",
      "['5/3', '', '', '', '', '', '', '']\n",
      "['5/4', '', '', '', '', '', '', '']\n",
      "['5/5', '', '', '', '', '', '', '']\n",
      "['5/6', '', '', '', '', '', '', '']\n",
      "['5/7', '', '', '', '', '', '', '']\n",
      "['5/8', '', '', '', '', '', '', '']\n",
      "['5/9', '', '', '', '', '', '', '']\n",
      "['5/10', '', '', '', '', '', '', '']\n",
      "['5/11', '', '', '', '', '', '', '']\n"
     ]
    }
   ],
   "source": [
    "for x in spreadsheet.get_worksheet(0).get_all_values():\n",
    "    if not 'Done' in x: \n",
    "    if x in print(x)"
   ]
  },
  {
   "cell_type": "code",
   "execution_count": 40,
   "metadata": {},
   "outputs": [],
   "source": [
    "options = webdriver.EdgeOptions()\n",
    "user_data_dir = r'C:\\Users\\as6ey\\AppData\\Local\\Microsoft\\Edge\\User Data'\n",
    "options.add_argument(f'--user-data-dir={user_data_dir}')\n",
    "options.add_argument('--profile-directory=Default')\n",
    "options.add_argument('--no-sandbox')\n",
    "\n",
    "driver = webdriver.Edge(service=Service('msedgedriver'), options=options)\n",
    "driver.implicitly_wait(0.5)"
   ]
  },
  {
   "cell_type": "code",
   "execution_count": 39,
   "metadata": {},
   "outputs": [],
   "source": [
    "wait = WebDriverWait(driver, 10)"
   ]
  },
  {
   "cell_type": "code",
   "execution_count": 46,
   "metadata": {},
   "outputs": [],
   "source": [
    "#set up URL for the dataing app\n",
    "url = 'https://twitter.com/home'\n",
    "driver.get(url)"
   ]
  },
  {
   "cell_type": "code",
   "execution_count": 36,
   "metadata": {},
   "outputs": [],
   "source": [
    "file_path = os.path.abspath(r\"C:\\Users\\as6ey\\Downloads\\Screenshot 2023-03-19 190614.png\")\n",
    "file_paths = [file_path,file_path,file_path]\n",
    "tweet = [\"This is a test tweet\",\"test 2\", \"test 3\"]"
   ]
  },
  {
   "cell_type": "code",
   "execution_count": 82,
   "metadata": {},
   "outputs": [],
   "source": [
    "for x in range(3):\n",
    "    update_status_with_media(x)\n",
    "    select_date(driver, 5, 6, 2023, 15,30)"
   ]
  }
 ],
 "metadata": {
  "kernelspec": {
   "display_name": "Python 3",
   "language": "python",
   "name": "python3"
  },
  "language_info": {
   "codemirror_mode": {
    "name": "ipython",
    "version": 3
   },
   "file_extension": ".py",
   "mimetype": "text/x-python",
   "name": "python",
   "nbconvert_exporter": "python",
   "pygments_lexer": "ipython3",
   "version": "3.10.11"
  },
  "orig_nbformat": 4
 },
 "nbformat": 4,
 "nbformat_minor": 2
}
